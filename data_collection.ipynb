{
 "cells": [
  {
   "cell_type": "code",
   "execution_count": 1,
   "metadata": {},
   "outputs": [],
   "source": [
    "import requests\n",
    "import bs4\n",
    "import lxml\n",
    "import pandas as pd\n",
    "from tqdm import tqdm"
   ]
  },
  {
   "cell_type": "code",
   "execution_count": 2,
   "metadata": {},
   "outputs": [],
   "source": [
    "title = []\n",
    "category = []\n",
    "upc = []\n",
    "product_type = []\n",
    "price_excl = []\n",
    "price_incl = []\n",
    "tax = []\n",
    "availability = []\n",
    "reviews = []"
   ]
  },
  {
   "cell_type": "code",
   "execution_count": 3,
   "metadata": {},
   "outputs": [
    {
     "name": "stderr",
     "output_type": "stream",
     "text": [
      "100%|██████████| 50/50 [09:27<00:00, 11.35s/it]\n"
     ]
    }
   ],
   "source": [
    "for i in tqdm(range(1,51)):\n",
    "    page_url = f\"https://books.toscrape.com/catalogue/page-{i}.html\"\n",
    "    \n",
    "    # Sending request to the page\n",
    "    req = requests.get(page_url)\n",
    "    soup = bs4.BeautifulSoup(req.text, \"lxml\")\n",
    "    \n",
    "    # Extract data from each book on the page\n",
    "    for book in soup.select('h3'):\n",
    "        url = \"https://books.toscrape.com/catalogue/\"\n",
    "        main_url = url + book.select('a')[0]['href']\n",
    "        result = requests.get(main_url)\n",
    "        \n",
    "        page = bs4.BeautifulSoup(result.text, \"lxml\")\n",
    "        \n",
    "        # Extract book details\n",
    "        title.append(page.select('title')[0].getText())\n",
    "        category.append(page.select('.breadcrumb')[0].select('a')[2].getText())\n",
    "        upc.append(page.select('.product_page')[0].select('td')[0].getText())\n",
    "        product_type.append(page.select('.product_page')[0].select('td')[1].getText())\n",
    "        price_excl.append(page.select('.product_page')[0].select('td')[2].getText())\n",
    "        price_incl.append(page.select('.product_page')[0].select('td')[3].getText())\n",
    "        tax.append(page.select('.product_page')[0].select('td')[4].getText())\n",
    "        availability.append(page.select('.product_page')[0].select('td')[5].getText())\n",
    "        reviews.append(page.select('.product_page')[0].select('td')[6].getText())"
   ]
  },
  {
   "cell_type": "code",
   "execution_count": 4,
   "metadata": {},
   "outputs": [],
   "source": [
    "data = {\n",
    "    'title' : title,\n",
    "    'category' : category,\n",
    "    'upc' : upc,\n",
    "    'product_type' : product_type,\n",
    "    'price_excl' : price_excl,\n",
    "    'price_incl' : price_incl,\n",
    "    'tax' : tax,\n",
    "    'availability' : availability,\n",
    "    'no_of_reviews' : reviews\n",
    "}"
   ]
  },
  {
   "cell_type": "code",
   "execution_count": 5,
   "metadata": {},
   "outputs": [],
   "source": [
    "data = pd.DataFrame(data)\n",
    "data.to_csv('book_data.csv', index = False)"
   ]
  }
 ],
 "metadata": {
  "kernelspec": {
   "display_name": "pro",
   "language": "python",
   "name": "python3"
  },
  "language_info": {
   "codemirror_mode": {
    "name": "ipython",
    "version": 3
   },
   "file_extension": ".py",
   "mimetype": "text/x-python",
   "name": "python",
   "nbconvert_exporter": "python",
   "pygments_lexer": "ipython3",
   "version": "3.9.17"
  }
 },
 "nbformat": 4,
 "nbformat_minor": 2
}
