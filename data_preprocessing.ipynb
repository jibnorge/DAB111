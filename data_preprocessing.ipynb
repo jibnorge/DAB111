{
 "cells": [
  {
   "cell_type": "code",
   "execution_count": 1,
   "metadata": {},
   "outputs": [],
   "source": [
    "import pandas as pd"
   ]
  },
  {
   "cell_type": "code",
   "execution_count": 2,
   "metadata": {},
   "outputs": [
    {
     "data": {
      "text/html": [
       "<div>\n",
       "<style scoped>\n",
       "    .dataframe tbody tr th:only-of-type {\n",
       "        vertical-align: middle;\n",
       "    }\n",
       "\n",
       "    .dataframe tbody tr th {\n",
       "        vertical-align: top;\n",
       "    }\n",
       "\n",
       "    .dataframe thead th {\n",
       "        text-align: right;\n",
       "    }\n",
       "</style>\n",
       "<table border=\"1\" class=\"dataframe\">\n",
       "  <thead>\n",
       "    <tr style=\"text-align: right;\">\n",
       "      <th></th>\n",
       "      <th>title</th>\n",
       "      <th>category</th>\n",
       "      <th>upc</th>\n",
       "      <th>product_type</th>\n",
       "      <th>price_excl</th>\n",
       "      <th>price_incl</th>\n",
       "      <th>tax</th>\n",
       "      <th>availability</th>\n",
       "      <th>no_of_reviews</th>\n",
       "    </tr>\n",
       "  </thead>\n",
       "  <tbody>\n",
       "    <tr>\n",
       "      <th>0</th>\n",
       "      <td>\\n    A Light in the Attic | Books to Scrape -...</td>\n",
       "      <td>Poetry</td>\n",
       "      <td>a897fe39b1053632</td>\n",
       "      <td>Books</td>\n",
       "      <td>Â£51.77</td>\n",
       "      <td>Â£51.77</td>\n",
       "      <td>Â£0.00</td>\n",
       "      <td>In stock (22 available)</td>\n",
       "      <td>0</td>\n",
       "    </tr>\n",
       "    <tr>\n",
       "      <th>1</th>\n",
       "      <td>\\n    Tipping the Velvet | Books to Scrape - S...</td>\n",
       "      <td>Historical Fiction</td>\n",
       "      <td>90fa61229261140a</td>\n",
       "      <td>Books</td>\n",
       "      <td>Â£53.74</td>\n",
       "      <td>Â£53.74</td>\n",
       "      <td>Â£0.00</td>\n",
       "      <td>In stock (20 available)</td>\n",
       "      <td>0</td>\n",
       "    </tr>\n",
       "    <tr>\n",
       "      <th>2</th>\n",
       "      <td>\\n    Soumission | Books to Scrape - Sandbox\\n</td>\n",
       "      <td>Fiction</td>\n",
       "      <td>6957f44c3847a760</td>\n",
       "      <td>Books</td>\n",
       "      <td>Â£50.10</td>\n",
       "      <td>Â£50.10</td>\n",
       "      <td>Â£0.00</td>\n",
       "      <td>In stock (20 available)</td>\n",
       "      <td>0</td>\n",
       "    </tr>\n",
       "    <tr>\n",
       "      <th>3</th>\n",
       "      <td>\\n    Sharp Objects | Books to Scrape - Sandbox\\n</td>\n",
       "      <td>Mystery</td>\n",
       "      <td>e00eb4fd7b871a48</td>\n",
       "      <td>Books</td>\n",
       "      <td>Â£47.82</td>\n",
       "      <td>Â£47.82</td>\n",
       "      <td>Â£0.00</td>\n",
       "      <td>In stock (20 available)</td>\n",
       "      <td>0</td>\n",
       "    </tr>\n",
       "    <tr>\n",
       "      <th>4</th>\n",
       "      <td>\\n    Sapiens: A Brief History of Humankind | ...</td>\n",
       "      <td>History</td>\n",
       "      <td>4165285e1663650f</td>\n",
       "      <td>Books</td>\n",
       "      <td>Â£54.23</td>\n",
       "      <td>Â£54.23</td>\n",
       "      <td>Â£0.00</td>\n",
       "      <td>In stock (20 available)</td>\n",
       "      <td>0</td>\n",
       "    </tr>\n",
       "  </tbody>\n",
       "</table>\n",
       "</div>"
      ],
      "text/plain": [
       "                                               title            category  \\\n",
       "0  \\n    A Light in the Attic | Books to Scrape -...              Poetry   \n",
       "1  \\n    Tipping the Velvet | Books to Scrape - S...  Historical Fiction   \n",
       "2     \\n    Soumission | Books to Scrape - Sandbox\\n             Fiction   \n",
       "3  \\n    Sharp Objects | Books to Scrape - Sandbox\\n             Mystery   \n",
       "4  \\n    Sapiens: A Brief History of Humankind | ...             History   \n",
       "\n",
       "                upc product_type price_excl price_incl     tax  \\\n",
       "0  a897fe39b1053632        Books    Â£51.77    Â£51.77  Â£0.00   \n",
       "1  90fa61229261140a        Books    Â£53.74    Â£53.74  Â£0.00   \n",
       "2  6957f44c3847a760        Books    Â£50.10    Â£50.10  Â£0.00   \n",
       "3  e00eb4fd7b871a48        Books    Â£47.82    Â£47.82  Â£0.00   \n",
       "4  4165285e1663650f        Books    Â£54.23    Â£54.23  Â£0.00   \n",
       "\n",
       "              availability  no_of_reviews  \n",
       "0  In stock (22 available)              0  \n",
       "1  In stock (20 available)              0  \n",
       "2  In stock (20 available)              0  \n",
       "3  In stock (20 available)              0  \n",
       "4  In stock (20 available)              0  "
      ]
     },
     "execution_count": 2,
     "metadata": {},
     "output_type": "execute_result"
    }
   ],
   "source": [
    "data = pd.read_csv('book_data.csv')\n",
    "data.head()"
   ]
  },
  {
   "cell_type": "code",
   "execution_count": 3,
   "metadata": {},
   "outputs": [],
   "source": [
    "# data['title'][0].split('|')[0].split('\\n')[1].strip()\n",
    "data['title'] = [i.split('|')[0].split('\\n')[1].strip() for i in data['title']]"
   ]
  },
  {
   "cell_type": "code",
   "execution_count": 4,
   "metadata": {},
   "outputs": [],
   "source": [
    "data['price_excl'] = [i.strip('Â£') for i in data['price_excl']]\n",
    "data['price_excl'] =  data['price_excl'].astype('float')"
   ]
  },
  {
   "cell_type": "code",
   "execution_count": 5,
   "metadata": {},
   "outputs": [],
   "source": [
    "data['price_incl'] = [i.strip('Â£') for i in data['price_incl']]\n",
    "data['price_incl'] =  data['price_incl'].astype('float')"
   ]
  },
  {
   "cell_type": "code",
   "execution_count": 6,
   "metadata": {},
   "outputs": [],
   "source": [
    "data['tax'] = [i.strip('Â£') for i in data['tax']]\n",
    "data['tax'] =  data['tax'].astype('float')"
   ]
  },
  {
   "cell_type": "code",
   "execution_count": 7,
   "metadata": {},
   "outputs": [],
   "source": [
    "data['stock_availability'] = [i.split('(')[0].strip() for i in data['availability']]\n",
    "data['available_count'] = [i.split('(')[1].split()[0] for i in data['availability']]\n",
    "data.drop(columns = 'availability', inplace = True)\n",
    "data['available_count'] = data['available_count'].astype('int')"
   ]
  },
  {
   "cell_type": "code",
   "execution_count": 8,
   "metadata": {},
   "outputs": [],
   "source": [
    "data.to_csv('books_updated.csv', index = False)"
   ]
  },
  {
   "cell_type": "code",
   "execution_count": 10,
   "metadata": {},
   "outputs": [],
   "source": [
    "features = pd.DataFrame({\"Features\" : data.columns})"
   ]
  },
  {
   "cell_type": "code",
   "execution_count": 11,
   "metadata": {},
   "outputs": [],
   "source": [
    "features['Description'] = [\"The title of the book\", \n",
    "                        \"The genre to which the book belongs\", \n",
    "                        \"A unique identifier for the book\", \n",
    "                        \"Type of the product\", \n",
    "                        \"The price of the book excluding any taxes\", \n",
    "                        \"The total price of the book, including taxes\", \n",
    "                        \"The amount of tax applied to the book\", \n",
    "                        \"The number of reviews the book has received\", \n",
    "                        \"Indicates whether the book is in stock or not\", \n",
    "                        \"The number of copies available in stock\"]"
   ]
  },
  {
   "cell_type": "code",
   "execution_count": 12,
   "metadata": {},
   "outputs": [],
   "source": [
    "features.to_csv('features.csv', index = False)"
   ]
  }
 ],
 "metadata": {
  "kernelspec": {
   "display_name": "pro",
   "language": "python",
   "name": "python3"
  },
  "language_info": {
   "codemirror_mode": {
    "name": "ipython",
    "version": 3
   },
   "file_extension": ".py",
   "mimetype": "text/x-python",
   "name": "python",
   "nbconvert_exporter": "python",
   "pygments_lexer": "ipython3",
   "version": "3.9.17"
  }
 },
 "nbformat": 4,
 "nbformat_minor": 2
}
