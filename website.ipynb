{
 "cells": [
  {
   "cell_type": "code",
   "execution_count": 31,
   "metadata": {},
   "outputs": [],
   "source": [
    "from flask import Flask, render_template\n",
    "from flask_ngrok import run_with_ngrok\n",
    "import sqlite3\n",
    "import os"
   ]
  },
  {
   "cell_type": "code",
   "execution_count": 4,
   "metadata": {},
   "outputs": [],
   "source": [
    "def get_database_path(database_filename):\n",
    "    current_directory = os.getcwd()\n",
    "    database_path = os.path.join(current_directory, database_filename)\n",
    "    return database_path"
   ]
  },
  {
   "cell_type": "code",
   "execution_count": 32,
   "metadata": {},
   "outputs": [],
   "source": [
    "app = Flask(__name__)\n",
    "run_with_ngrok(app)\n",
    "\n",
    "database_filename = \"books.db\"\n",
    "database_path = get_database_path(database_filename)"
   ]
  },
  {
   "cell_type": "code",
   "execution_count": 33,
   "metadata": {},
   "outputs": [],
   "source": [
    "def dbConnection():\n",
    "    try:\n",
    "        conn = sqlite3.connect(database_path)\n",
    "        conn.row_factory = sqlite3.Row\n",
    "        return conn\n",
    "    except sqlite3.Error as e:\n",
    "        print(\"SQLite Error:\", e)\n",
    "        return None"
   ]
  },
  {
   "cell_type": "code",
   "execution_count": 34,
   "metadata": {},
   "outputs": [],
   "source": [
    "def get_table_names(conn):\n",
    "    cursor = conn.execute(\"SELECT name FROM sqlite_master WHERE type ='table';\")\n",
    "    return [table[0] for table in cursor.fetchall()]"
   ]
  },
  {
   "cell_type": "code",
   "execution_count": 35,
   "metadata": {},
   "outputs": [],
   "source": [
    "@app.route('/')\n",
    "def createMain():\n",
    "    conn = dbConnection()\n",
    "    table_names = get_table_names(conn)\n",
    "\n",
    "    if not table_names:\n",
    "        return \"No tables found in the database.\"\n",
    "\n",
    "    table_name = table_names[0]\n",
    "\n",
    "    query = f'SELECT * FROM {table_name}'\n",
    "    book_data = conn.execute(query).fetchall()\n",
    "\n",
    "    return render_template(\"index.html\", book_data = book_data, table_name = table_name)"
   ]
  },
  {
   "cell_type": "code",
   "execution_count": 36,
   "metadata": {},
   "outputs": [],
   "source": [
    "@app.route('/about')\n",
    "def about():\n",
    "    conn = dbConnection()\n",
    "    table_names = get_table_names(conn)\n",
    "\n",
    "    if not table_names:\n",
    "        return \"No tables found in the database.\"\n",
    "\n",
    "    table_name = table_names[1]\n",
    "\n",
    "    query = f'SELECT * FROM {table_name}'\n",
    "    feature_data = conn.execute(query).fetchall()\n",
    "\n",
    "    return render_template(\"about.html\", feature_data = feature_data, table_name = table_name)"
   ]
  },
  {
   "cell_type": "code",
   "execution_count": 37,
   "metadata": {},
   "outputs": [],
   "source": [
    "@app.route('/non_fiction')\n",
    "def NonFiction():\n",
    "    conn = dbConnection()\n",
    "    table_names = get_table_names(conn)\n",
    "\n",
    "    if not table_names:\n",
    "        return \"No tables found in the database.\"\n",
    "\n",
    "    table_name = table_names[0]\n",
    "\n",
    "    query = f'SELECT * FROM {table_name} WHERE Category = \"Nonfiction\"'\n",
    "    nonfiction_data = conn.execute(query).fetchall()\n",
    "\n",
    "    return render_template(\"non_fiction.html\", nonfiction_data = nonfiction_data, table_name = table_name)"
   ]
  },
  {
   "cell_type": "code",
   "execution_count": 38,
   "metadata": {},
   "outputs": [],
   "source": [
    "@app.route('/seq_art')\n",
    "def SeqArt():\n",
    "    conn = dbConnection()\n",
    "    table_names = get_table_names(conn)\n",
    "\n",
    "    if not table_names:\n",
    "        return \"No tables found in the database.\"\n",
    "\n",
    "    table_name = table_names[0]\n",
    "\n",
    "    query = f'SELECT * FROM {table_name} WHERE Category = \"Sequential Art\"'\n",
    "    seqart_data = conn.execute(query).fetchall()\n",
    "\n",
    "    return render_template(\"seq_art.html\", seqart_data = seqart_data, table_name = table_name)"
   ]
  },
  {
   "cell_type": "code",
   "execution_count": 39,
   "metadata": {},
   "outputs": [],
   "source": [
    "@app.route('/fiction')\n",
    "def Fiction():\n",
    "    conn = dbConnection()\n",
    "    table_names = get_table_names(conn)\n",
    "\n",
    "    if not table_names:\n",
    "        return \"No tables found in the database\"\n",
    "    \n",
    "    table_name = table_names[0]\n",
    "\n",
    "    query = f'SELECT * FROM {table_name} WHERE Category = \"Fiction\"'\n",
    "    fiction_data = conn.execute(query).fetchall()\n",
    "\n",
    "    return render_template(\"fiction.html\", fiction_data = fiction_data, table_name = table_name)"
   ]
  },
  {
   "cell_type": "code",
   "execution_count": 40,
   "metadata": {},
   "outputs": [],
   "source": [
    "@app.route('/young_adult')\n",
    "def YoungAdult():\n",
    "    conn = dbConnection()\n",
    "    table_names = get_table_names(conn)\n",
    "\n",
    "    if not table_names:\n",
    "        return \"No tables found in the database.\"\n",
    "\n",
    "    table_name = table_names[0]\n",
    "\n",
    "    query = f'SELECT * FROM {table_name} WHERE Category = \"Young Adult\"'\n",
    "    young_data = conn.execute(query).fetchall()\n",
    "\n",
    "    return render_template(\"young_adult.html\", young_data = young_data, table_name = table_name)"
   ]
  },
  {
   "cell_type": "code",
   "execution_count": 41,
   "metadata": {},
   "outputs": [],
   "source": [
    "@app.route('/fantasy')\n",
    "def Fantasy():\n",
    "    conn = dbConnection()\n",
    "    table_names = get_table_names(conn)\n",
    "\n",
    "    if not table_names:\n",
    "        return \"No tables found in the database.\"\n",
    "\n",
    "    table_name = table_names[0]\n",
    "\n",
    "    query = f'SELECT * FROM {table_name} WHERE Category = \"Fantasy\"'\n",
    "    fantasy_data = conn.execute(query).fetchall()\n",
    "\n",
    "    return render_template(\"fantasy.html\", fantasy_data = fantasy_data, table_name = table_name)"
   ]
  },
  {
   "cell_type": "code",
   "execution_count": 42,
   "metadata": {},
   "outputs": [],
   "source": [
    "@app.route('/romance')\n",
    "def Romance():\n",
    "    conn = dbConnection()\n",
    "    table_names = get_table_names(conn)\n",
    "\n",
    "    if not table_names:\n",
    "        return \"No tables found in the database.\"\n",
    "\n",
    "    table_name = table_names[0]\n",
    "\n",
    "    query = f'SELECT * FROM {table_name} WHERE Category = \"Romance\"'\n",
    "    romance_data = conn.execute(query).fetchall()\n",
    "\n",
    "    return render_template(\"romance.html\", romance_data = romance_data, table_name = table_name)"
   ]
  },
  {
   "cell_type": "code",
   "execution_count": 43,
   "metadata": {},
   "outputs": [],
   "source": [
    "@app.route('/mystery')\n",
    "def Mystery():\n",
    "    conn = dbConnection()\n",
    "    table_names = get_table_names(conn)\n",
    "\n",
    "    if not table_names:\n",
    "        return \"No tables found in the database.\"\n",
    "\n",
    "    table_name = table_names[0]\n",
    "\n",
    "    query = f'SELECT * FROM {table_name} WHERE Category = \"Mystery\"'\n",
    "    mystery_data = conn.execute(query).fetchall()\n",
    "\n",
    "    return render_template(\"mystery.html\", mystery_data = mystery_data, table_name = table_name)"
   ]
  },
  {
   "cell_type": "code",
   "execution_count": 44,
   "metadata": {},
   "outputs": [],
   "source": [
    "@app.route('/food_and_drink')\n",
    "def FoodAndDrink():\n",
    "    conn = dbConnection()\n",
    "    table_names = get_table_names(conn)\n",
    "\n",
    "    if not table_names:\n",
    "        return \"No tables found in the database.\"\n",
    "\n",
    "    table_name = table_names[0]\n",
    "\n",
    "    query = f'SELECT * FROM {table_name} WHERE Category = \"Food and Drink\"'\n",
    "    food_and_drink_data = conn.execute(query).fetchall()\n",
    "\n",
    "    return render_template(\"food_and_drink.html\", food_and_drink_data = food_and_drink_data, table_name = table_name)"
   ]
  },
  {
   "cell_type": "code",
   "execution_count": 49,
   "metadata": {},
   "outputs": [
    {
     "name": "stdout",
     "output_type": "stream",
     "text": [
      " * Serving Flask app '__main__'\n",
      " * Debug mode: off\n"
     ]
    },
    {
     "name": "stderr",
     "output_type": "stream",
     "text": [
      "WARNING: This is a development server. Do not use it in a production deployment. Use a production WSGI server instead.\n",
      " * Running on http://127.0.0.1:5000\n",
      "Press CTRL+C to quit\n"
     ]
    },
    {
     "name": "stdout",
     "output_type": "stream",
     "text": [
      " * Running on http://5304-184-144-65-112.ngrok.io\n",
      " * Traffic stats available on http://127.0.0.1:4040\n"
     ]
    }
   ],
   "source": [
    "if __name__ == '__main__':\n",
    "    app.run()"
   ]
  }
 ],
 "metadata": {
  "kernelspec": {
   "display_name": "pro",
   "language": "python",
   "name": "python3"
  },
  "language_info": {
   "codemirror_mode": {
    "name": "ipython",
    "version": 3
   },
   "file_extension": ".py",
   "mimetype": "text/x-python",
   "name": "python",
   "nbconvert_exporter": "python",
   "pygments_lexer": "ipython3",
   "version": "3.9.17"
  }
 },
 "nbformat": 4,
 "nbformat_minor": 2
}
